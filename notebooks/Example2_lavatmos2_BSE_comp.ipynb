{
 "cells": [
  {
   "cell_type": "code",
   "execution_count": 1,
   "id": "5bbef9fb-76dc-4b88-896e-6a1964b429fc",
   "metadata": {
    "tags": []
   },
   "outputs": [],
   "source": [
    "# Standard python packages\n",
    "import os\n",
    "import numpy as np\n",
    "import pandas as pd"
   ]
  },
  {
   "cell_type": "markdown",
   "id": "a6a6b21b-0d37-44a7-b9aa-4a043b1f642a",
   "metadata": {},
   "source": [
    "# LavAtmos 2: Example 1 \n",
    "### Running LavAtmos 2 for a Bulk Silicate Earth composition for a single surface temperature and total volatile pressure\n",
    "\n",
    "In this notebook we will show how straightforward it is to use LavAtmos 2 in order to calculate the partial pressures of the vapor species above a melt of bulk silicate earth (BSE) composition under a volatile atmosphere. Start by ensuring that the standard python packages imported above are all present in your build. Then make sure that the path to the LavAtmos module in the lines below is correct. If you are running the code in the docker provided for Thermoengine on the [ENKI](https://enki-portal.gitlab.io/ThermoEngine/) page, then you should not have to change the paths. "
   ]
  },
  {
   "cell_type": "code",
   "execution_count": 2,
   "id": "1638d9af-6b1c-48a9-96a2-9ea8d021a296",
   "metadata": {
    "tags": []
   },
   "outputs": [],
   "source": [
    "os.chdir('/home/jovyan/ThermoEngine/LavAtmos')\n",
    "import lavatmos2"
   ]
  },
  {
   "cell_type": "markdown",
   "id": "598975cc-9475-44ac-826e-b0e218ddac61",
   "metadata": {},
   "source": [
    "### Setting the melt composition\n",
    "Next up, we import the bulk silicate earth composition that was also used in the [Visscher and Fegley (2013) paper](https://doi.org/10.1088/2041-8205/767/1/L12). You may also chose to enter your own composition by either change the data file from which we are importing, or by defining a new dictionary type object with the weight percentages for each included oxide. If you do the latter, ensure that the dictionary is in the same format as the one printed below. "
   ]
  },
  {
   "cell_type": "code",
   "execution_count": 3,
   "id": "8bb5e31f-2dd4-4ed5-a0ea-fb13c2110890",
   "metadata": {
    "tags": []
   },
   "outputs": [
    {
     "name": "stdout",
     "output_type": "stream",
     "text": [
      "{'SiO2': 45.4, 'MgO': 36.76, 'Al2O3': 4.48, 'TiO2': 0.21, 'FeO': 8.1, 'CaO': 3.65, 'Na2O': 0.349, 'K2O': 0.031}\n"
     ]
    }
   ],
   "source": [
    "vf13_comps_df = pd.read_csv('/home/jovyan/ThermoEngine/LavAtmos/data/input/vf2013_comps.csv',index_col=0)\n",
    "vf13_comps = {}\n",
    "for name in vf13_comps_df.columns:\n",
    "    vf13_comps[name] = vf13_comps_df[name].to_dict()\n",
    "print(vf13_comps['BSE'])"
   ]
  },
  {
   "cell_type": "markdown",
   "id": "9e6a9733-87d9-42d8-a165-10b4471be306",
   "metadata": {},
   "source": [
    "### Setting the volatile atmosphere composition\n",
    "We now determine the volatile atmosphere composition. In this example we use a hydrogen (H) composition that is roughly similar to what you would expect for an atmosphere with a solar-like composition. Similarly to the melt composition, the volatile compostion is given in dictionary format. Note that here we pass it on in terms of mole fractions (maximum of 1). Feel free to try different compositions yourself!"
   ]
  },
  {
   "cell_type": "code",
   "execution_count": 4,
   "id": "adf0959d-d25a-4610-87e6-e0c49f693525",
   "metadata": {
    "tags": []
   },
   "outputs": [],
   "source": [
    "volatile_comp = {\n",
    "    'C' : 0.01,\n",
    "    'H' : 0.80,\n",
    "    'N' : 0.18,\n",
    "    'S' : 0.005,\n",
    "    'P' : 0.005\n",
    "    }"
   ]
  },
  {
   "cell_type": "markdown",
   "id": "3ff61d34-40bf-4e14-b070-df6ea2c571ca",
   "metadata": {},
   "source": [
    "### Setting the surface temperature and the total volatile pressure of the system\n",
    "\n",
    "Lets try a surface temperature of 3000 K and a total volatile atmosphere pressure of 10 bar.\n",
    "\n",
    "Note: The total volatile pressure is the total pressure of all the volatile species in the atmosphere, but not of the atmosphere as a whole. The total pressure as a whole is determined by adding the total volatile pressure and the pressure of all the vaporised species to each other. "
   ]
  },
  {
   "cell_type": "code",
   "execution_count": 5,
   "id": "ae22df43-b8c7-4d1c-8d96-61db9a1cd16b",
   "metadata": {
    "tags": []
   },
   "outputs": [],
   "source": [
    "T_surf = 2300 # Kelvin - if you want to do multiple values, make sure that it is an np.array()\n",
    "P_vol = 10 # Bar"
   ]
  },
  {
   "cell_type": "markdown",
   "id": "d369baa9-abb0-4529-a625-9000303f906f",
   "metadata": {
    "tags": []
   },
   "source": [
    "### Initialising LavAtmos\n",
    "\n",
    "Next up we initialise a LavAtmos system. This makes sure that the necessary thermochemical data is imported and loaded. "
   ]
  },
  {
   "cell_type": "code",
   "execution_count": 6,
   "id": "8be498bb-6660-4aa0-a4a7-8c05ee0e2f51",
   "metadata": {
    "tags": []
   },
   "outputs": [],
   "source": [
    "system = lavatmos2.melt_vapor_system()"
   ]
  },
  {
   "cell_type": "markdown",
   "id": "438cc285-b58b-49a5-8229-510ec143e83a",
   "metadata": {},
   "source": [
    "### Running LavAtmos\n",
    "\n",
    "Now we have all we have to do is run the `vaporise` from system by passing on the temperature `T` and the compositions."
   ]
  },
  {
   "cell_type": "code",
   "execution_count": 7,
   "id": "c07867c9-5e6c-4899-9655-d82559637edb",
   "metadata": {
    "tags": []
   },
   "outputs": [
    {
     "name": "stdout",
     "output_type": "stream",
     "text": [
      "Calculated:   0%|          | 0/1 [00:00<?, ?it/s]\n",
      "Point falls within 200 K and 1 order of magnitude of cached values.\n",
      "Using extrapolation for first estimate of fO2.\n",
      "Estimated value: 0.0001684567986162122\n",
      "Calculated: 100%|██████████| 1/1 [04:40<00:00, 280.02s/it]\n"
     ]
    }
   ],
   "source": [
    "partial_pressures = system.vaporise(T_surf, P_vol, vf13_comps['BSE'], volatile_comp)"
   ]
  },
  {
   "cell_type": "code",
   "execution_count": 8,
   "id": "0aaaf409-f34b-4109-a306-42afd381962c",
   "metadata": {
    "tags": []
   },
   "outputs": [
    {
     "name": "stdout",
     "output_type": "stream",
     "text": [
      "              C         H            He             N             O         P  \\\n",
      "0  4.110189e-12  0.026739  2.029133e-31  5.175628e-08  1.708996e-07  0.000542   \n",
      "\n",
      "          S        Si            Ti             V  ...           P1+  \\\n",
      "0  0.000377  0.000002  3.416187e-10  5.682120e-33  ...  2.511083e-19   \n",
      "\n",
      "            P1-           S1+           S1-          Si1+          Si1-  \\\n",
      "0  2.124710e-09  8.808417e-20  3.853880e-07  3.332472e-17  3.600452e-11   \n",
      "\n",
      "           Ti1+          Ti1-           V1+           V1-  \n",
      "0  1.911836e-17  2.841556e-17  2.093811e-40  2.472305e-39  \n",
      "\n",
      "[1 rows x 473 columns]\n"
     ]
    }
   ],
   "source": [
    "print(partial_pressures)"
   ]
  },
  {
   "cell_type": "code",
   "execution_count": null,
   "id": "6957d982-39d1-49cd-9f02-3224452518f4",
   "metadata": {},
   "outputs": [],
   "source": []
  }
 ],
 "metadata": {
  "kernelspec": {
   "display_name": "Python 3 (ipykernel)",
   "language": "python",
   "name": "python3"
  },
  "language_info": {
   "codemirror_mode": {
    "name": "ipython",
    "version": 3
   },
   "file_extension": ".py",
   "mimetype": "text/x-python",
   "name": "python",
   "nbconvert_exporter": "python",
   "pygments_lexer": "ipython3",
   "version": "3.10.11"
  }
 },
 "nbformat": 4,
 "nbformat_minor": 5
}
