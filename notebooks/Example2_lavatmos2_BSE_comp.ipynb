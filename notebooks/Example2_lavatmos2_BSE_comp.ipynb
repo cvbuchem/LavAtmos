{
 "cells": [
  {
   "cell_type": "code",
   "execution_count": 1,
   "id": "5bbef9fb-76dc-4b88-896e-6a1964b429fc",
   "metadata": {
    "tags": []
   },
   "outputs": [],
   "source": [
    "# Standard python packages\n",
    "import os\n",
    "import numpy as np\n",
    "import pandas as pd"
   ]
  },
  {
   "cell_type": "markdown",
   "id": "a6a6b21b-0d37-44a7-b9aa-4a043b1f642a",
   "metadata": {},
   "source": [
    "# LavAtmos 2: Example 1 \n",
    "### Running LavAtmos 2 for a Bulk Silicate Earth composition for a single surface temperature and total volatile pressure\n",
    "\n",
    "In this notebook we will show how straightforward it is to use LavAtmos 2 in order to calculate the partial pressures of the vapor species above a melt of bulk silicate earth (BSE) composition under a volatile atmosphere. Start by ensuring that the standard python packages imported above are all present in your build. Then make sure that the path to the LavAtmos module in the lines below is correct. If you are running the code in the docker provided for Thermoengine on the [ENKI](https://enki-portal.gitlab.io/ThermoEngine/) page, then you should not have to change the paths. "
   ]
  },
  {
   "cell_type": "code",
   "execution_count": 2,
   "id": "1638d9af-6b1c-48a9-96a2-9ea8d021a296",
   "metadata": {
    "tags": []
   },
   "outputs": [],
   "source": [
    "os.chdir('/home/jovyan/ThermoEngine/LavAtmos')\n",
    "import lavatmos2"
   ]
  },
  {
   "cell_type": "markdown",
   "id": "598975cc-9475-44ac-826e-b0e218ddac61",
   "metadata": {},
   "source": [
    "### Setting the melt composition\n",
    "Next up, we import the bulk silicate earth composition that was also used in the [Visscher and Fegley (2013) paper](https://doi.org/10.1088/2041-8205/767/1/L12). You may also chose to enter your own composition by either change the data file from which we are importing, or by defining a new dictionary type object with the weight percentages for each included oxide. If you do the latter, ensure that the dictionary is in the same format as the one printed below. "
   ]
  },
  {
   "cell_type": "code",
   "execution_count": 3,
   "id": "8bb5e31f-2dd4-4ed5-a0ea-fb13c2110890",
   "metadata": {
    "tags": []
   },
   "outputs": [
    {
     "name": "stdout",
     "output_type": "stream",
     "text": [
      "{'SiO2': 45.4, 'MgO': 36.76, 'Al2O3': 4.48, 'TiO2': 0.21, 'FeO': 8.1, 'CaO': 3.65, 'Na2O': 0.349, 'K2O': 0.031}\n"
     ]
    }
   ],
   "source": [
    "vf13_comps_df = pd.read_csv('/home/jovyan/ThermoEngine/LavAtmos/data/input/vf2013_comps.csv',index_col=0)\n",
    "vf13_comps = {}\n",
    "for name in vf13_comps_df.columns:\n",
    "    vf13_comps[name] = vf13_comps_df[name].to_dict()\n",
    "print(vf13_comps['BSE'])"
   ]
  },
  {
   "cell_type": "markdown",
   "id": "9e6a9733-87d9-42d8-a165-10b4471be306",
   "metadata": {},
   "source": [
    "### Setting the volatile atmosphere composition\n",
    "We now determine the volatile atmosphere composition. In this example we use a hydrogen (H) composition that is roughly similar to what you would expect for an atmosphere with a solar-like composition. Similarly to the melt composition, the volatile compostion is given in dictionary format. Note that here we pass it on in terms of mole fractions (maximum of 1). Feel free to try different compositions yourself!"
   ]
  },
  {
   "cell_type": "code",
   "execution_count": 4,
   "id": "adf0959d-d25a-4610-87e6-e0c49f693525",
   "metadata": {
    "tags": []
   },
   "outputs": [],
   "source": [
    "volatile_comp = {\n",
    "    'C' : 0.023076923,\n",
    "    'H' : 7e-09,\n",
    "    'N' : 0.77692307,\n",
    "    'S' : 0.0001998,\n",
    "    'P' : 0.1998002\n",
    "    }\n",
    "\n",
    "volatile_comp = {\n",
    "    'C' : 0,\n",
    "    'H' : 1,\n",
    "    'N' : 0,\n",
    "    'S' : 0,\n",
    "    'P' : 0\n",
    "    }"
   ]
  },
  {
   "cell_type": "markdown",
   "id": "3ff61d34-40bf-4e14-b070-df6ea2c571ca",
   "metadata": {},
   "source": [
    "### Setting the surface temperature and the total volatile pressure of the system\n",
    "\n",
    "Lets try a surface temperature of 3000 K and a total volatile atmosphere pressure of 10 bar.\n",
    "\n",
    "Note: The total volatile pressure is the total pressure of all the volatile species in the atmosphere, but not of the atmosphere as a whole. The total pressure as a whole is determined by adding the total volatile pressure and the pressure of all the vaporised species to each other. "
   ]
  },
  {
   "cell_type": "code",
   "execution_count": 5,
   "id": "ae22df43-b8c7-4d1c-8d96-61db9a1cd16b",
   "metadata": {
    "tags": []
   },
   "outputs": [],
   "source": [
    "T_surf = 2109.11 # Kelvin - if you want to do multiple values, make sure that it is an np.array()\n",
    "P_vol = 10 # Bar"
   ]
  },
  {
   "cell_type": "markdown",
   "id": "d369baa9-abb0-4529-a625-9000303f906f",
   "metadata": {
    "tags": []
   },
   "source": [
    "### Initialising LavAtmos\n",
    "\n",
    "Next up we initialise a LavAtmos system. This makes sure that the necessary thermochemical data is imported and loaded. "
   ]
  },
  {
   "cell_type": "code",
   "execution_count": 6,
   "id": "8be498bb-6660-4aa0-a4a7-8c05ee0e2f51",
   "metadata": {
    "tags": []
   },
   "outputs": [],
   "source": [
    "system = lavatmos2.melt_vapor_system()"
   ]
  },
  {
   "cell_type": "markdown",
   "id": "438cc285-b58b-49a5-8229-510ec143e83a",
   "metadata": {},
   "source": [
    "### Running LavAtmos\n",
    "\n",
    "Now we have all we have to do is run the `vaporise` from system by passing on the temperature `T` and the compositions."
   ]
  },
  {
   "cell_type": "code",
   "execution_count": 7,
   "id": "c07867c9-5e6c-4899-9655-d82559637edb",
   "metadata": {
    "tags": []
   },
   "outputs": [
    {
     "name": "stdout",
     "output_type": "stream",
     "text": [
      "{'SiO2': 45.4, 'MgO': 36.76, 'Al2O3': 4.48, 'TiO2': 0.21, 'FeO': 8.1, 'CaO': 3.65, 'Na2O': 0.349, 'K2O': 0.031}\n",
      "Calculated: 100%|██████████| 1/1 [12:49<00:00, 769.59s/it]0.041219854982209404\n",
      "Calculated: 100%|██████████| 1/1 [12:49<00:00, 769.67s/it]\n"
     ]
    }
   ],
   "source": [
    "partial_pressures = system.vaporise(T_surf, P_vol, vf13_comps['BSE'], volatile_comp)"
   ]
  },
  {
   "cell_type": "code",
   "execution_count": 8,
   "id": "0aaaf409-f34b-4109-a306-42afd381962c",
   "metadata": {
    "tags": []
   },
   "outputs": [
    {
     "name": "stdout",
     "output_type": "stream",
     "text": [
      "              C         H             O             S             P\n",
      "0  5.310557e-43  0.010356  7.741466e-09  2.086683e-34  1.259777e-33\n"
     ]
    }
   ],
   "source": [
    "print(partial_pressures[['C','H','O','S','P']])"
   ]
  },
  {
   "cell_type": "code",
   "execution_count": 9,
   "id": "3e286420-8216-4639-b408-9c8f627701b0",
   "metadata": {
    "tags": []
   },
   "outputs": [],
   "source": [
    "# for spec in partial_pressures.columns:\n",
    "#     print(spec)"
   ]
  },
  {
   "cell_type": "code",
   "execution_count": 10,
   "id": "239066e9-cbce-4f28-a56b-fc9458d48b19",
   "metadata": {
    "tags": []
   },
   "outputs": [
    {
     "name": "stdout",
     "output_type": "stream",
     "text": [
      "      O1Si1         O2Si1      H2O1          C1O2          C1O1\n",
      "0  0.020501  7.124978e-07  0.081617  3.343788e-34  2.005430e-31\n"
     ]
    }
   ],
   "source": [
    "print(partial_pressures[['O1Si1','O2Si1','H2O1','C1O2','C1O1']])"
   ]
  },
  {
   "cell_type": "code",
   "execution_count": 11,
   "id": "b3e93f5f-afd7-4905-a520-8570b16fa75f",
   "metadata": {
    "tags": []
   },
   "outputs": [],
   "source": [
    "lavatmos_partial_pressures = partial_pressures\n",
    "all_elements = ['e-', 'Al', 'Ar', 'C', 'Ca', 'Cl', 'Co',\\\n",
    "                 'Cr', 'Cu', 'F', 'Fe', 'Ge', 'H', 'He',\\\n",
    "                 'K', 'Mg', 'Mn', 'N', 'Na', 'Ne', 'Ni',\\\n",
    "                 'O', 'P', 'S', 'Si', 'Ti', 'V', 'Zn']"
   ]
  },
  {
   "cell_type": "code",
   "execution_count": 12,
   "id": "6957d982-39d1-49cd-9f02-3224452518f4",
   "metadata": {
    "tags": []
   },
   "outputs": [],
   "source": [
    "frac = {}\n",
    "for el in all_elements:\n",
    "    frac[el] = 0\n",
    "\n",
    "P_BOA = lavatmos_partial_pressures.sum(axis=1).iloc[0]\n",
    "mole_fractions = lavatmos_partial_pressures/P_BOA\n",
    "\n",
    "for spec in mole_fractions.columns:\n",
    "\n",
    "    # print(f'\\n{spec}')\n",
    "\n",
    "    for el in all_elements:\n",
    "\n",
    "        if el in spec:\n",
    "\n",
    "            index = spec.find(el)\n",
    "\n",
    "            # Check if there's a coefficient present\n",
    "            if index + len(el) < len(spec) and spec[index + len(el)].isdigit():\n",
    "                stoi = float(spec[index + len(el)])\n",
    "\n",
    "            # Ensure inclusion of ions, end of species atoms, and single atoms\n",
    "            elif (index + len(el) < len(spec) and spec[index + len(el)] == '_')\\\n",
    "                or index + len(el) == len(spec)\\\n",
    "                or spec[index + len(el)].isupper():\n",
    "                stoi = 1\n",
    "\n",
    "            # Ensure exclusion of S in Si species (for example)\n",
    "            else: \n",
    "                stoi = 0\n",
    "\n",
    "            # print(f'{el}: {stoi}*{mole_fractions[spec].iloc[0]} =',stoi * mole_fractions[spec].iloc[0])\n",
    "            frac[el] += stoi * mole_fractions[spec].iloc[0]\n",
    "                    # print(frac[el])"
   ]
  },
  {
   "cell_type": "code",
   "execution_count": 13,
   "id": "23099191-925b-4d3c-ab99-fc0fee8f7c25",
   "metadata": {
    "tags": []
   },
   "outputs": [
    {
     "name": "stdout",
     "output_type": "stream",
     "text": [
      "Total pressure: 10.04122000004064\n",
      "e-  :2.024387e-07\n",
      "Al  :1.276757e-08\n",
      "Ar  :0.000000e+00\n",
      "C   :2.001077e-32\n",
      "Ca  :5.443358e-09\n",
      "Cl  :2.001077e-32\n",
      "Co  :0.000000e+00\n",
      "Cr  :0.000000e+00\n",
      "Cu  :0.000000e+00\n",
      "F   :2.001077e-32\n",
      "Fe  :2.797399e-03\n",
      "Ge  :0.000000e+00\n",
      "H   :1.982693e+00\n",
      "He  :2.001077e-32\n",
      "K   :1.151607e-04\n",
      "Mg  :5.279526e-04\n",
      "Mn  :0.000000e+00\n",
      "N   :2.001077e-32\n",
      "Na  :2.690379e-03\n",
      "Ne  :0.000000e+00\n",
      "Ni  :0.000000e+00\n",
      "O   :1.021057e-02\n",
      "P   :2.001077e-32\n",
      "S   :2.001077e-32\n",
      "Si  :2.041861e-03\n",
      "Ti  :1.024002e-09\n",
      "V   :2.001077e-32\n",
      "Zn  :0.000000e+00\n"
     ]
    }
   ],
   "source": [
    "print(f'Total pressure: {P_BOA}')\n",
    "for el in all_elements:\n",
    "    print(f'{el:<4}:{frac[el]:4e}')"
   ]
  },
  {
   "cell_type": "code",
   "execution_count": null,
   "id": "7d11d970-844c-4595-b172-719b96b8f4a4",
   "metadata": {},
   "outputs": [],
   "source": []
  }
 ],
 "metadata": {
  "kernelspec": {
   "display_name": "Python 3 (ipykernel)",
   "language": "python",
   "name": "python3"
  },
  "language_info": {
   "codemirror_mode": {
    "name": "ipython",
    "version": 3
   },
   "file_extension": ".py",
   "mimetype": "text/x-python",
   "name": "python",
   "nbconvert_exporter": "python",
   "pygments_lexer": "ipython3",
   "version": "3.10.11"
  }
 },
 "nbformat": 4,
 "nbformat_minor": 5
}
